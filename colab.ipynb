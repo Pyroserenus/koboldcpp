{
  "cells": [
    {
      "cell_type": "markdown",
      "metadata": {
        "id": "On1_cnLYAs46"
      },
      "source": [
        "## Welcome to the (Un)Official KoboldCpp Colab Notebook\n",
        "It's really easy to get started. Just press the two **Play** buttons below, and then connect to the **Cloudflare URL** shown at the end.\n",
        "\n",
        "You can select a model from the dropdown or enter a HF model name into the Model feild, formatting should look like `KoboldAI/LLaMA2-13B-Tiefighter-GGUF`.\n",
        "\n",
        "If a custom HF model name fails to load you may want to enable Manaul_Link and dircetly enter the link of the desired model. Formating for a manual URL should look like `https://huggingface.co/KoboldAI/LLaMA2-13B-Tiefighter-GGUF/resolve/main/LLaMA2-13B-Tiefighter.Q4_K_M.gguf`\n",
        "\n",
        "For **13B** models The following congigurations are tested and known to work\n",
        "- `Q4_K_M / 4096 context` Standard configuration\n",
        "- `Q4_K_S / 6144 context` Increased context with a small cost to quality and speed\n",
        "- `Q5_K_M / 4096 context` Increased quality at a small cost to speed\n",
        "\n",
        "For **7B** models The following congigurations are tested and known to work\n",
        "- `Q5_K_M / 4096 context` Standard configuration\n",
        "- `Q5_K_M / 8192 context` Greatly increased context with a small cost to quality and speed"
      ]
    },
    {
      "cell_type": "code",
      "execution_count": null,
      "metadata": {
        "id": "Ga0gRRsAAs47"
      },
      "outputs": [],
      "source": [
        "#@title <-- Tap this if you play on Mobile { display-mode: \"form\" }\n",
        "%%html\n",
        "<b>Press play on the music player to keep the tab alive, then start KoboldCpp below</b><br/>\n",
        "<audio src=\"https://raw.githubusercontent.com/KoboldAI/KoboldAI-Client/main/colab/silence.m4a\" controls>"
      ]
    },
    {
      "cell_type": "code",
      "execution_count": null,
      "metadata": {
        "id": "uJS9i_Dltv8Y"
      },
      "outputs": [],
      "source": [
        "#@title <b>v-- Enter your model below and then click this to start Koboldcpp</b>\n",
        "\n",
        "Model = \"KoboldAI/LLaMA2-13B-Tiefighter-GGUF\" #@param [\"KoboldAI/LLaMA2-13B-Tiefighter-GGUF\",\"TheBloke/ReMM-SLERP-L2-13B-GGUF\",\"TheBloke/MythoMax-L2-13B-GGUF\",\"TheBloke/Xwin-LM-13B-v0.2-GGUF\",\"TheBloke/Stheno-L2-13B-GGUF\",\"TheBloke/OpenHermes-2.5-Mistral-7B-GGUF\",\"TheBloke/Mistral-7B-Claude-Chat-GGUF\"]{allow-input: true}\n",
        "Quant = \"Q4_K_M\" #@param [\"Q4_K_S\",\"Q4_K_M\",\"Q5_K_M\"] {allow-input: true}\n",
        "ContextSize = 4096 #@param [2048,4096,6144,8192] {allow-input: true}\n",
        "Manual_Link = False #@param {type:\"boolean\"}\n",
        "Model_URL = \"OPTIONAL: Enable Manual_Link and paste full model download link here\" #@param [\"\"]{allow-input: true}\n",
        "\n",
        "LocalTunnelBackup = False #@param {type:\"boolean\"}\n",
        "\n",
        "\n",
        "# Split the Model string into MODELPATH and MODELNAME\n",
        "parts = Model.split('/')\n",
        "MODELPATH = parts[0]\n",
        "MODELNAME = parts[1].replace('-GGUF', '')\n",
        "\n",
        "print(\"MODELPATH:\", MODELPATH)\n",
        "print(\"MODELNAME:\", MODELNAME)\n",
        "\n",
        "MODELURL = \"https://huggingface.co/{MODELPATH}/{MODELNAME}-GGUF/resolve/main/{MODELNAME}.{Quant}.gguf\"\n",
        "\n",
        "if Manual_Link:\n",
        "  MODELURL = Model_URL\n",
        "\n",
        "\n",
        "%cd /content\n",
        "!git clone https://github.com/LostRuins/koboldcpp\n",
        "%cd /content/koboldcpp\n",
        "kvers = !(cat koboldcpp.py | grep 'KcppVersion = ' | cut -d '\"' -f2)\n",
        "kvers = kvers[0]\n",
        "!echo Finding prebuilt binary for {kvers}\n",
        "!wget -c https://huggingface.co/concedo/koboldcpp/resolve/main/prebuilt_binaries/{kvers}.so\n",
        "!test -f {kvers}.so && mv {kvers}.so koboldcpp_cublas.so || echo Prebuilt Binary Does Not Exist\n",
        "!test -f koboldcpp_cublas.so && echo Prebuilt Binary Exists || make koboldcpp_cublas LLAMA_CUBLAS=1\n",
        "!cp koboldcpp_cublas.so koboldcpp_cublas.dat\n",
        "!rm model.ggml\n",
        "!wget https://huggingface.co/{MODELPATH}/{MODELNAME}-GGUF/resolve/main/{MODELNAME}.{Quant}.gguf -nc -O model.ggml\n",
        "MODELNAME = MODELNAME.lower()\n",
        "import os\n",
        "\n",
        "file_path = 'model.ggml'\n",
        "file_size = os.path.getsize(file_path)  # Get the file size in bytes\n",
        "\n",
        "if file_size < 1024 * 1024:  # 1MB = 1024*1024 bytes\n",
        "    !rm {file_path}\n",
        "else:\n",
        "    print(f\"The file {file_path} is larger than 1MB and will not be deleted.\")\n",
        "MODELURL = \"https://huggingface.co/{MODELPATH}/{MODELNAME}-GGUF/resolve/main/{MODELNAME}.{Quant}.gguf\"\n",
        "!wget https://huggingface.co/{MODELPATH}/{MODELNAME}-GGUF/resolve/main/{MODELNAME}.{Quant}.gguf -nc -O model.ggml\n",
        "if LocalTunnelBackup:\n",
        "  !npm install -g localtunnel\n",
        "  !nohup lt --port 5001 &\n",
        "  !sleep 8\n",
        "  !cat nohup.out\n",
        "  FLAG = \"\"\n",
        "else:\n",
        "  FLAG = \"--remotetunnel\"\n",
        "\n",
        "\n",
        "!python koboldcpp.py model.ggml --usecublas 0 --multiuser --gpulayers 99 --contextsize $ContextSize --hordeconfig concedo 1 1 {FLAG} --onready \"curl -s ipecho.net/plain | xargs -I % echo If using the Localtunnel backup scroll up for your Localtunnel link, then use the following IP to verify: %\""
      ]
    }
  ],
  "metadata": {
    "accelerator": "GPU",
    "colab": {
      "gpuType": "T4",
      "private_outputs": true,
      "provenance": []
    },
    "kernelspec": {
      "display_name": "Python 3",
      "name": "python3"
    },
    "language_info": {
      "name": "python"
    }
  },
  "nbformat": 4,
  "nbformat_minor": 0
}
