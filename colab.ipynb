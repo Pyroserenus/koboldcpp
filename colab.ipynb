{
  "nbformat": 4,
  "nbformat_minor": 0,
  "metadata": {
    "colab": {
      "private_outputs": true,
      "provenance": [],
      "gpuType": "T4",
      "authorship_tag": "ABX9TyMJ7PCRivS7ATHJ6Xnn2h2S",
      "include_colab_link": true
    },
    "kernelspec": {
      "name": "python3",
      "display_name": "Python 3"
    },
    "language_info": {
      "name": "python"
    },
    "accelerator": "GPU"
  },
  "cells": [
    {
      "cell_type": "markdown",
      "metadata": {
        "id": "view-in-github",
        "colab_type": "text"
      },
      "source": [
        "<a href=\"https://colab.research.google.com/github/pyroserenus/koboldcpp/blob/concedo/colab.ipynb\" target=\"_parent\"><img src=\"https://colab.research.google.com/assets/colab-badge.svg\" alt=\"Open In Colab\"/></a>"
      ]
    },
    {
      "cell_type": "code",
      "source": [
        "#@title v-- Tap this if you play on Mobile { display-mode: \"form\" }\n",
        "%%html\n",
        "<b>Press play on the music player to keep the tab alive, then start KoboldAI below (Uses only 13MB of data)</b><br/>\n",
        "<audio src=\"https://raw.githubusercontent.com/KoboldAI/KoboldAI-Client/main/colab/silence.m4a\" controls>"
      ],
      "metadata": {
        "id": "KigUEDvN83j1"
      },
      "execution_count": null,
      "outputs": []
    },
    {
      "cell_type": "code",
      "execution_count": null,
      "metadata": {
        "cellView": "form",
        "id": "uJS9i_Dltv8Y"
      },
      "outputs": [],
      "source": [
        "#@title <b>v-- Enter your model below and then click this to start Koboldcpp</b>\n",
        "\n",
        "Model = \"https://huggingface.co/KoboldAI/LLaMA2-13B-Holomax-GGML/resolve/main/LLaMA2-13B-Holomax.ggmlv3.Q4_1.bin\" #@param [\"\"]{allow-input: true}\n",
        "Layers = 43 #@param [43]{allow-input: true}\n",
        "Context = 4096 #@param [43]{allow-input: true}\n",
        "\n",
        "%cd /content\n",
        "!git clone https://github.com/LostRuins/koboldcpp\n",
        "%cd /content/koboldcpp\n",
        "!make LLAMA_CUBLAS=1\n",
        "\n",
        "!wget $Model -O model.ggml\n",
        "!wget -c https://github.com/cloudflare/cloudflared/releases/latest/download/cloudflared-linux-amd64\n",
        "!chmod +x cloudflared-linux-amd64\n",
        "!nohup ./cloudflared-linux-amd64 tunnel --url http://localhost:5001 &\n",
        "!sleep 10\n",
        "!cat nohup.out\n",
        "!python koboldcpp.py model.ggml --stream --usecublas 0 normal mmq --ropeconfig 1.0 10000 --gpulayers $Layers --context $Context --hordeconfig concedo\n"
      ]
    }
  ]
}
