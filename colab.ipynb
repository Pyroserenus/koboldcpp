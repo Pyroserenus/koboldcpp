{
  "cells": [
    {
      "cell_type": "markdown",
      "metadata": {
        "colab_type": "text",
        "id": "view-in-github"
      },
      "source": [
        "<a href=\"https://colab.research.google.com/github/LostRuins/koboldcpp/blob/concedo/colab.ipynb\" target=\"_parent\"><img src=\"https://colab.research.google.com/assets/colab-badge.svg\" alt=\"Open In Colab\"/></a>"
      ]
    },
    {
      "cell_type": "markdown",
      "metadata": {},
      "source": [
        "## Welcome to the Official KoboldCpp Colab Notebook\n",
        "It's really easy to get started. Just press the two **Play** buttons below, and then connect to the **Cloudflare URL** shown at the end. \n",
        "You can select a model from the dropdown or enter a URL into the Manual URL field to use any GGUF model from Huggingface. Formating for a manual URL should look like `https://huggingface.co/KoboldAI/LLaMA2-13B-Tiefighter-GGUF/resolve/main/LLaMA2-13B-Tiefighter.Q4_K_M.gguf`"
      ]
    },
    {
      "cell_type": "code",
      "execution_count": null,
      "metadata": {},
      "outputs": [],
      "source": [
        "#@title <-- Tap this if you play on Mobile { display-mode: \"form\" }\n",
        "%%html\n",
        "<b>Press play on the music player to keep the tab alive, then start KoboldCpp below</b><br/>\n",
        "<audio src=\"https://raw.githubusercontent.com/KoboldAI/KoboldAI-Client/main/colab/silence.m4a\" controls>"
      ]
    },
    {
      "cell_type": "code",
      "execution_count": null,
      "metadata": {
        "cellView": "form",
        "id": "uJS9i_Dltv8Y"
      },
      "outputs": [],
      "source": [
        "#@title <b>v-- Enter your model below and then click this to start Koboldcpp</b>\n",
        "\n",
        "Model = \"Tiefighter 13B Q4_K_M 4k Context\" #@param [\"Tiefighter 13B Q4_K_M 4k Context\",\"Tiefighter 13B Q4_K_S 6k Context\",\"Mythomax 13B Q4_K_M 4k Context\",\"Mythomax 13B Q4_K_S 6k Context\",\"ReMM-SLERP 13B Q4_K_M 4k Context\",\"ReMM-SLERP 13B Q4_K_S 6k Context\",\"Xwin LM 13B v0.2 Q4_K_M 4k Context\",\"Xwin LM 13B v0.2 Q4_K_S 6k Context\",\"Stheno 13B Q4_K_M 4k Context\",\"Stheno 13B Q4_K_M 4k Context\",\"Stheno 13B Q4_K_S 6k Context\",\"OpenHermes-2-Mistral 7B Q5_K_M 8k Context\",\"Mistral-Claude-Chat 7B Q5_K_M 8k Context\"]{allow-input: true}\n",
        "Manual_Link = False #@param {type:\"boolean\"}\n",
        "Manual_Context = False #@param {type:\"boolean\"}\n",
        "Model_URL = \"OPTIONAL: Place URL Here\" #@param [\"\"]{allow-input: true}\n",
        "ContextSize = 4096 #@param [4096,6144,8192] {allow-input: true}\n",
        "\n",
        "\n",
        "if Model == \"Tiefighter 13B Q4_K_M 4k Context\":\n",
        "  Model = \"https://huggingface.co/KoboldAI/LLaMA2-13B-Tiefighter-GGUF/resolve/main/LLaMA2-13B-Tiefighter.Q4_K_M.gguf\"\n",
        "  Context = 4096\n",
        "if Model == \"Tiefighter 13B Q4_K_S 6k Context\":\n",
        "  Model = \"https://huggingface.co/KoboldAI/LLaMA2-13B-Tiefighter-GGUF/resolve/main/LLaMA2-13B-Tiefighter.Q4_K_S.gguf\"\n",
        "  Context = 6144\n",
        "elif Model == \"Mythomax 13B Q4_K_M 4k Context\":\n",
        "  Model = \"https://huggingface.co/TheBloke/MythoMax-L2-13B-GGUF/resolve/main/mythomax-l2-13b.Q4_K_M.gguf\"\n",
        "  Context = 4096\n",
        "elif Model == \"Mythomax 13B Q4_K_S 6k Context\":\n",
        "  Model = \"https://huggingface.co/TheBloke/MythoMax-L2-13B-GGUF/resolve/main/mythomax-l2-13b.Q4_K_S.gguf\"\n",
        "  Context = 6144\n",
        "elif Model == \"ReMM-SLERP 13B Q4_K_M 4k Context\":\n",
        "  Model = \"https://huggingface.co/TheBloke/ReMM-SLERP-L2-13B-GGUF/resolve/main/remm-slerp-l2-13b.Q4_K_M.gguf\"\n",
        "  Context = 4096\n",
        "elif Model == \"ReMM-SLERP 13B Q4_K_S 6k Context\":\n",
        "  Model = \"https://huggingface.co/TheBloke/ReMM-SLERP-L2-13B-GGUF/resolve/main/remm-slerp-l2-13b.Q4_K_S.gguf\"\n",
        "  Context = 6144\n",
        "elif Model == \"Xwin LM 13B v0.2 Q4_K_M 4k Context\":\n",
        "  Model = \"https://huggingface.co/TheBloke/Xwin-LM-13B-v0.2-GGUF/resolve/main/xwin-lm-13b-v0.2.Q4_K_M.gguf\"\n",
        "  Context = 4096\n",
        "elif Model == \"Xwin LM 13B v0.2 Q4_K_S 6k Context\":\n",
        "  Model = \"https://huggingface.co/TheBloke/Xwin-LM-13B-v0.2-GGUF/resolve/main/xwin-lm-13b-v0.2.Q4_K_S.gguf\"\n",
        "  Context = 6144\n",
        "elif Model == \"Stheno 13B Q4_K_M 4k Context\":\n",
        "  Model = \"https://huggingface.co/TheBloke/Stheno-L2-13B-GGUF/resolve/main/stheno-l2-13b.Q4_K_M.gguf\"\n",
        "  Context = 4096\n",
        "elif Model == \"Stheno 13B Q4_K_S 6k Context\":\n",
        "  Model = \"https://huggingface.co/TheBloke/Stheno-L2-13B-GGUF/resolve/main/stheno-l2-13b.Q4_K_S.gguf\"\n",
        "  Context = 6144\n",
        "elif Model == \"OpenHermes-2-Mistral 7B Q5_K_M 8k Context\":\n",
        "  Model = \"https://huggingface.co/TheBloke/OpenHermes-2-Mistral-7B-GGUF/resolve/main/openhermes-2-mistral-7b.Q5_K_M.gguf\"\n",
        "  Context = 8192\n",
        "elif Model == \"Mistral-Claude-Chat 7B Q5_K_M 8k Context\":\n",
        "  Model = \"https://huggingface.co/TheBloke/Mistral-7B-Claude-Chat-GGUF/resolve/main/mistral-7b-claude-chat.Q5_K_M.gguf\"\n",
        "  Context = 8192\n",
        "if Manual_Link:\n",
        "  Model = $Model_URL\n",
        "if Manual_Context:\n",
        "  Context = $ContextSize\n",
        "\n",
        "%cd /content\n",
        "!git clone https://github.com/LostRuins/koboldcpp\n",
        "%cd /content/koboldcpp\n",
        "kvers = !(cat koboldcpp.py | grep 'KcppVersion = ' | cut -d '\"' -f2)\n",
        "kvers = kvers[0]\n",
        "!echo Finding prebuilt binary for {kvers}\n",
        "!wget -c https://huggingface.co/concedo/koboldcpp/resolve/main/prebuilt_binaries/{kvers}.so\n",
        "!test -f {kvers}.so && mv {kvers}.so koboldcpp_cublas.so || echo Prebuilt Binary Does Not Exist\n",
        "!test -f koboldcpp_cublas.so && echo Prebuilt Binary Exists || make koboldcpp_cublas LLAMA_CUBLAS=1\n",
        "!cp koboldcpp_cublas.so koboldcpp_cublas.dat\n",
        "!wget $Model -O model.ggml\n",
        "!wget -c https://github.com/cloudflare/cloudflared/releases/latest/download/cloudflared-linux-amd64\n",
        "!chmod +x cloudflared-linux-amd64\n",
        "!nohup ./cloudflared-linux-amd64 tunnel --url http://localhost:5001 &\n",
        "!sleep 8\n",
        "!cat nohup.out\n",
        "!python koboldcpp.py model.ggml --usecublas 0 --multiuser --gpulayers 99 --contextsize $Context --hordeconfig concedo 1 1 --onready \"echo Connect to the link below && cat nohup.out | grep trycloudflare.com && rm nohup.out\"\n"
      ]
    }
  ],
  "metadata": {
    "accelerator": "GPU",
    "colab": {
      "authorship_tag": "",
      "gpuType": "T4",
      "include_colab_link": true,
      "private_outputs": true,
      "provenance": []
    },
    "kernelspec": {
      "display_name": "Python 3",
      "name": "python3"
    },
    "language_info": {
      "name": "python"
    }
  },
  "nbformat": 4,
  "nbformat_minor": 0
}
